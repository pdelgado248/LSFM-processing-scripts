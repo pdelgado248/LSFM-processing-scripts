{
 "cells": [
  {
   "cell_type": "markdown",
   "id": "IlAVHlMviU-0",
   "metadata": {
    "id": "IlAVHlMviU-0"
   },
   "source": [
    "# **Closing and small particle removal**\n",
    "---\n",
    "<font size =4>This notebook has been created to perform the post-processing of the previously segmented cysts in the notebook *1_U-Net_2D_Multilabel_ZeroCostDL4Mic.ipynb*.\n",
    "\n",
    "<font size =4>The second section is about connecting the notebook to the user's Google Drive, in case of using Google Colab.\n",
    "\n",
    "<font size =4>In the third section masks are processed in order to achive a better rersult. Specifically, closing of holes and subsequence particle removal is performed.\n",
    "\n",
    "<font size =4> Finally, in the forth section, the masks are saved as image sequence.\n",
    "\n",
    "---\n",
    "\n",
    "<font size =4>*Author*: Itsaso Vitoria\n",
    "\n",
    "<font size =4>*Date*: *2023, September 8*"
   ]
  },
  {
   "cell_type": "markdown",
   "id": "TuUt1Ns7v-7O",
   "metadata": {
    "id": "TuUt1Ns7v-7O"
   },
   "source": [
    "# **1. Load key dependencies**\n",
    "-----"
   ]
  },
  {
   "cell_type": "code",
   "execution_count": 2,
   "id": "d914607e-22c2-4cf7-a854-79e05b08358d",
   "metadata": {
    "tags": []
   },
   "outputs": [
    {
     "name": "stdout",
     "output_type": "stream",
     "text": [
      "Collecting opencv-python\n",
      "  Obtaining dependency information for opencv-python from https://files.pythonhosted.org/packages/38/d2/3e8c13ffc37ca5ebc6f382b242b44acb43eb489042e1728407ac3904e72f/opencv_python-4.8.1.78-cp37-abi3-win_amd64.whl.metadata\n",
      "  Downloading opencv_python-4.8.1.78-cp37-abi3-win_amd64.whl.metadata (20 kB)\n",
      "Requirement already satisfied: numpy>=1.17.0 in c:\\users\\equipo\\.conda\\envs\\workenvunet\\lib\\site-packages (from opencv-python) (1.26.0)\n",
      "Downloading opencv_python-4.8.1.78-cp37-abi3-win_amd64.whl (38.1 MB)\n",
      "   ---------------------------------------- 0.0/38.1 MB ? eta -:--:--\n",
      "   ---------------------------------------- 0.0/38.1 MB 991.0 kB/s eta 0:00:39\n",
      "   - -------------------------------------- 1.4/38.1 MB 14.4 MB/s eta 0:00:03\n",
      "   --- ------------------------------------ 2.9/38.1 MB 20.6 MB/s eta 0:00:02\n",
      "   ---- ----------------------------------- 4.5/38.1 MB 23.8 MB/s eta 0:00:02\n",
      "   ----- ---------------------------------- 5.6/38.1 MB 23.7 MB/s eta 0:00:02\n",
      "   ------- -------------------------------- 7.2/38.1 MB 25.5 MB/s eta 0:00:02\n",
      "   --------- ------------------------------ 8.8/38.1 MB 28.1 MB/s eta 0:00:02\n",
      "   ---------- ----------------------------- 10.3/38.1 MB 31.2 MB/s eta 0:00:01\n",
      "   ------------ --------------------------- 11.8/38.1 MB 32.7 MB/s eta 0:00:01\n",
      "   -------------- ------------------------- 13.4/38.1 MB 32.7 MB/s eta 0:00:01\n",
      "   --------------- ------------------------ 14.9/38.1 MB 34.4 MB/s eta 0:00:01\n",
      "   ----------------- ---------------------- 16.5/38.1 MB 34.4 MB/s eta 0:00:01\n",
      "   ------------------- -------------------- 18.2/38.1 MB 34.6 MB/s eta 0:00:01\n",
      "   -------------------- ------------------- 19.7/38.1 MB 34.4 MB/s eta 0:00:01\n",
      "   ---------------------- ----------------- 21.4/38.1 MB 34.4 MB/s eta 0:00:01\n",
      "   ------------------------ --------------- 22.9/38.1 MB 34.4 MB/s eta 0:00:01\n",
      "   ------------------------- -------------- 24.5/38.1 MB 34.4 MB/s eta 0:00:01\n",
      "   --------------------------- ------------ 26.2/38.1 MB 34.4 MB/s eta 0:00:01\n",
      "   ----------------------------- ---------- 27.7/38.1 MB 34.4 MB/s eta 0:00:01\n",
      "   ------------------------------ --------- 29.2/38.1 MB 34.4 MB/s eta 0:00:01\n",
      "   -------------------------------- ------- 30.6/38.1 MB 32.8 MB/s eta 0:00:01\n",
      "   --------------------------------- ------ 32.1/38.1 MB 32.8 MB/s eta 0:00:01\n",
      "   ----------------------------------- ---- 33.8/38.1 MB 32.8 MB/s eta 0:00:01\n",
      "   ------------------------------------- -- 35.3/38.1 MB 32.8 MB/s eta 0:00:01\n",
      "   -------------------------------------- - 36.9/38.1 MB 32.7 MB/s eta 0:00:01\n",
      "   ---------------------------------------  38.1/38.1 MB 32.8 MB/s eta 0:00:01\n",
      "   ---------------------------------------  38.1/38.1 MB 32.8 MB/s eta 0:00:01\n",
      "   ---------------------------------------- 38.1/38.1 MB 26.2 MB/s eta 0:00:00\n",
      "Installing collected packages: opencv-python\n",
      "Successfully installed opencv-python-4.8.1.78\n"
     ]
    }
   ],
   "source": [
    "!pip install opencv-python"
   ]
  },
  {
   "cell_type": "code",
   "execution_count": 3,
   "id": "e49b278a",
   "metadata": {
    "cellView": "form",
    "id": "e49b278a",
    "tags": []
   },
   "outputs": [],
   "source": [
    "#@markdown ###Run to import necessary modules and functions.\n",
    "\n",
    "# Import necessary modules\n",
    "import cv2\n",
    "import numpy as np\n",
    "import matplotlib.pyplot as plt\n",
    "import os\n",
    "import time\n",
    "from PIL import Image\n",
    "\n",
    "# Function for computing time in minutes\n",
    "def format_minutes_seconds(seconds):\n",
    "    minutes = seconds // 60\n",
    "    remaining_seconds = seconds % 60\n",
    "    return f\"{int(minutes)} minutes and {int(remaining_seconds)} seconds\""
   ]
  },
  {
   "cell_type": "markdown",
   "id": "cb999507",
   "metadata": {
    "id": "cb999507"
   },
   "source": [
    "# **2. Initialise the Colab session** <font size = 4>(in case you use Google Drive)\n",
    "\n",
    "---"
   ]
  },
  {
   "cell_type": "markdown",
   "id": "3320ad0e",
   "metadata": {
    "id": "3320ad0e"
   },
   "source": [
    "## **2.1. Check for GPU access**\n",
    "---\n",
    "\n",
    "By default, the session should be using Python 3 and GPU acceleration, but it is possible to ensure that these are set properly by doing the following:\n",
    "\n",
    "<font size = 4>Go to **Runtime -> Change the Runtime type**\n",
    "\n",
    "<font size = 4>**Runtime type: Python 3** *(Python 3 is programming language in which this program is written)*\n",
    "\n",
    "<font size = 4>**Accelerator: GPU** *(Graphics processing unit)*"
   ]
  },
  {
   "cell_type": "code",
   "execution_count": 4,
   "id": "18522dd4",
   "metadata": {
    "cellView": "form",
    "colab": {
     "base_uri": "https://localhost:8080/"
    },
    "executionInfo": {
     "elapsed": 225,
     "status": "ok",
     "timestamp": 1694196330222,
     "user": {
      "displayName": "Itsaso Vitoria",
      "userId": "09158122493387679708"
     },
     "user_tz": -120
    },
    "id": "18522dd4",
    "outputId": "90350cbd-1b54-476e-dda1-596efab59a95",
    "tags": []
   },
   "outputs": [
    {
     "name": "stdout",
     "output_type": "stream",
     "text": [
      "You have GPU access\n",
      "Tue Oct 10 11:01:03 2023       \n",
      "+---------------------------------------------------------------------------------------+\n",
      "| NVIDIA-SMI 536.23                 Driver Version: 536.23       CUDA Version: 12.2     |\n",
      "|-----------------------------------------+----------------------+----------------------+\n",
      "| GPU  Name                     TCC/WDDM  | Bus-Id        Disp.A | Volatile Uncorr. ECC |\n",
      "| Fan  Temp   Perf          Pwr:Usage/Cap |         Memory-Usage | GPU-Util  Compute M. |\n",
      "|                                         |                      |               MIG M. |\n",
      "|=========================================+======================+======================|\n",
      "|   0  NVIDIA GeForce RTX 3090      WDDM  | 00000000:2D:00.0  On |                  N/A |\n",
      "|  0%   45C    P2              68W / 350W |   1667MiB / 24576MiB |      2%      Default |\n",
      "|                                         |                      |                  N/A |\n",
      "+-----------------------------------------+----------------------+----------------------+\n",
      "                                                                                         \n",
      "+---------------------------------------------------------------------------------------+\n",
      "| Processes:                                                                            |\n",
      "|  GPU   GI   CI        PID   Type   Process name                            GPU Memory |\n",
      "|        ID   ID                                                             Usage      |\n",
      "|=======================================================================================|\n",
      "|    0   N/A  N/A      1188    C+G   ....11.20210226\\bin\\SlicerApp-real.exe    N/A      |\n",
      "|    0   N/A  N/A      2364      C   ...\\.conda\\envs\\workenvUnet\\python.exe    N/A      |\n",
      "|    0   N/A  N/A      3020    C+G   ...t.LockApp_cw5n1h2txyewy\\LockApp.exe    N/A      |\n",
      "|    0   N/A  N/A      7920    C+G   ...s (x86)\\QNAP\\Qfinder\\QfinderPro.exe    N/A      |\n",
      "|    0   N/A  N/A      8168    C+G   ...oogle\\Chrome\\Application\\chrome.exe    N/A      |\n",
      "|    0   N/A  N/A      9536    C+G   ...\\Docker\\frontend\\Docker Desktop.exe    N/A      |\n",
      "|    0   N/A  N/A     11028    C+G   ...GeForce Experience\\NVIDIA Share.exe    N/A      |\n",
      "|    0   N/A  N/A     11388    C+G   ...e Stream\\82.0.1.0\\GoogleDriveFS.exe    N/A      |\n",
      "|    0   N/A  N/A     13820    C+G   ...cal\\Microsoft\\OneDrive\\OneDrive.exe    N/A      |\n",
      "|    0   N/A  N/A     13832    C+G   ....Search_cw5n1h2txyewy\\SearchApp.exe    N/A      |\n",
      "|    0   N/A  N/A     16968    C+G   ...GeForce Experience\\NVIDIA Share.exe    N/A      |\n",
      "|    0   N/A  N/A     17168    C+G   ....Search_cw5n1h2txyewy\\SearchApp.exe    N/A      |\n",
      "|    0   N/A  N/A     19168    C+G   ...5n1h2txyewy\\ShellExperienceHost.exe    N/A      |\n",
      "|    0   N/A  N/A     19380    C+G   ...CBS_cw5n1h2txyewy\\TextInputHost.exe    N/A      |\n",
      "|    0   N/A  N/A     22464    C+G   ...crosoft\\Edge\\Application\\msedge.exe    N/A      |\n",
      "|    0   N/A  N/A     22876    C+G   ...siveControlPanel\\SystemSettings.exe    N/A      |\n",
      "|    0   N/A  N/A     25180    C+G   C:\\Windows\\explorer.exe                   N/A      |\n",
      "|    0   N/A  N/A     26136    C+G   ...\\Local\\slack\\app-4.34.121\\slack.exe    N/A      |\n",
      "+---------------------------------------------------------------------------------------+\n"
     ]
    }
   ],
   "source": [
    "#@markdown ##Run this cell to check if you have GPU access\n",
    "import tensorflow as tf\n",
    "if tf.test.gpu_device_name()=='':\n",
    "  print('You do not have GPU access.')\n",
    "  print('Did you change your runtime ?')\n",
    "  print('If the runtime setting is correct then Google did not allocate a GPU for your session')\n",
    "  print('Expect slow performance. To access GPU try reconnecting later')\n",
    "\n",
    "else:\n",
    "  print('You have GPU access')\n",
    "  !nvidia-smi"
   ]
  },
  {
   "cell_type": "code",
   "execution_count": null,
   "id": "a547af62",
   "metadata": {
    "cellView": "form",
    "colab": {
     "base_uri": "https://localhost:8080/"
    },
    "executionInfo": {
     "elapsed": 1599,
     "status": "ok",
     "timestamp": 1694196334722,
     "user": {
      "displayName": "Itsaso Vitoria",
      "userId": "09158122493387679708"
     },
     "user_tz": -120
    },
    "id": "a547af62",
    "outputId": "b29485eb-11ed-4708-b368-8619f6049f0e"
   },
   "outputs": [
    {
     "name": "stdout",
     "output_type": "stream",
     "text": [
      "Drive already mounted at /content/gdrive; to attempt to forcibly remount, call drive.mount(\"/content/gdrive\", force_remount=True).\n"
     ]
    }
   ],
   "source": [
    "#@markdown ##Play the cell to connect your Google Drive to Colab\n",
    "\n",
    "from google.colab import drive\n",
    "drive.mount('/content/gdrive')"
   ]
  },
  {
   "cell_type": "markdown",
   "id": "zMLKtxrIju8m",
   "metadata": {
    "id": "zMLKtxrIju8m",
    "tags": []
   },
   "source": [
    "# **3. Closing and holes removal**\n",
    "----\n",
    "<font size = 4>"
   ]
  },
  {
   "cell_type": "code",
   "execution_count": 8,
   "id": "xdUaxnrtKMCk",
   "metadata": {
    "cellView": "form",
    "colab": {
     "base_uri": "https://localhost:8080/"
    },
    "executionInfo": {
     "elapsed": 895329,
     "status": "ok",
     "timestamp": 1694197373547,
     "user": {
      "displayName": "Itsaso Vitoria",
      "userId": "09158122493387679708"
     },
     "user_tz": -120
    },
    "id": "xdUaxnrtKMCk",
    "outputId": "6f3e6e39-e801-4f71-e1f3-74e3d563f119",
    "tags": []
   },
   "outputs": [
    {
     "name": "stdout",
     "output_type": "stream",
     "text": [
      "Time for postprocessing all the masks: 3 minutes and 17 seconds\n"
     ]
    }
   ],
   "source": [
    "start_process = time.time()\n",
    "\n",
    "#@markdown ### Set the folder path where the images are located.\n",
    "imPath = 'E:/AAV para enfermedades renales/LSFM combined images/CystSegmentation/InitialSegMasks/MacroSPIM2/'+\\\n",
    "            'InitialSeg_KidneyR2Right_LectinRed_RLSamples2021' #@param {type:\"string\"}\n",
    "\n",
    "#@markdown ### Define the save pathl\n",
    "savePath = 'E:/AAV para enfermedades renales/LSFM combined images/CystSegmentation/FinalSegMasks/MacroSPIM2/'+\\\n",
    "            'FinalCystSeg_KidneyR2Right_LectinRed_RLSamples2021'#@param {type:\"string\"}\n",
    "\n",
    "# Ensure the save directory exists\n",
    "os.makedirs(savePath, exist_ok=True)\n",
    "\n",
    "# Get a list of all the files in the folder\n",
    "file_list = os.listdir(imPath)\n",
    "\n",
    "# Process each image in the folder\n",
    "for file_name in file_list:\n",
    "    # Construct the full file path\n",
    "    file_path = os.path.join(imPath, file_name)\n",
    "\n",
    "    # Load the binary mask image\n",
    "    binary_mask = cv2.imread(file_path, cv2.IMREAD_GRAYSCALE)\n",
    "\n",
    "    # Perform your desired image processing operations here\n",
    "    kernel = np.ones((6, 6), np.uint8)\n",
    "    closed_mask = cv2.morphologyEx(binary_mask, cv2.MORPH_CLOSE, kernel)\n",
    "\n",
    "    kernel = np.ones((7, 7), np.uint8)\n",
    "    binary_mask = cv2.erode(closed_mask, kernel, iterations=2)\n",
    "    binary_mask = cv2.dilate(binary_mask, kernel, iterations=2)\n",
    "\n",
    "    # Save the processed binary mask as a .tif file with the same name\n",
    "    maskPath = os.path.join(savePath, file_name)\n",
    "    slide = Image.fromarray(binary_mask)\n",
    "    slide.save(maskPath)\n",
    "\n",
    "end_process = time.time()\n",
    "print(\"Time for postprocessing all the masks:\", format_minutes_seconds(end_process - start_process))"
   ]
  }
 ],
 "metadata": {
  "accelerator": "GPU",
  "colab": {
   "gpuType": "V100",
   "provenance": []
  },
  "kernelspec": {
   "display_name": "Python 3 (ipykernel)",
   "language": "python",
   "name": "python3"
  },
  "language_info": {
   "codemirror_mode": {
    "name": "ipython",
    "version": 3
   },
   "file_extension": ".py",
   "mimetype": "text/x-python",
   "name": "python",
   "nbconvert_exporter": "python",
   "pygments_lexer": "ipython3",
   "version": "3.9.16"
  }
 },
 "nbformat": 4,
 "nbformat_minor": 5
}
