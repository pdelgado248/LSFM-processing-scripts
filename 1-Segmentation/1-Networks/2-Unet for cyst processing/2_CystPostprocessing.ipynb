{
 "cells": [
  {
   "cell_type": "markdown",
   "id": "IlAVHlMviU-0",
   "metadata": {
    "id": "IlAVHlMviU-0"
   },
   "source": [
    "# **Closing and small particle removal**\n",
    "---\n",
    "<font size =4>This notebook has been created to perform the post-processing of the previously segmented cysts in the notebook *1_U-Net_2D_Multilabel_ZeroCostDL4Mic.ipynb*. Masks are processed in order to achive a better rersult. Specifically, closing of holes and subsequence particle removal is performed.\n",
    "\n",
    "---\n",
    "\n",
    "<font size =4>*Author*: Itsaso Vitoria\n",
    "\n",
    "<font size =4>*Date*: *2023, September 8*"
   ]
  },
  {
   "cell_type": "markdown",
   "id": "TuUt1Ns7v-7O",
   "metadata": {
    "id": "TuUt1Ns7v-7O"
   },
   "source": [
    "# **Load key dependencies**\n",
    "-----"
   ]
  },
  {
   "cell_type": "code",
   "execution_count": 3,
   "id": "e49b278a",
   "metadata": {
    "cellView": "form",
    "id": "e49b278a",
    "tags": []
   },
   "outputs": [],
   "source": [
    "#@markdown ###Run to import necessary modules and functions.\n",
    "\n",
    "# Import necessary modules\n",
    "import cv2\n",
    "import numpy as np\n",
    "import matplotlib.pyplot as plt\n",
    "import os\n",
    "import time\n",
    "from PIL import Image\n",
    "\n",
    "# Function for computing time in minutes\n",
    "def format_minutes_seconds(seconds):\n",
    "    minutes = seconds // 60\n",
    "    remaining_seconds = seconds % 60\n",
    "    return f\"{int(minutes)} minutes and {int(remaining_seconds)} seconds\""
   ]
  },
  {
   "cell_type": "markdown",
   "id": "zMLKtxrIju8m",
   "metadata": {
    "id": "zMLKtxrIju8m",
    "tags": []
   },
   "source": [
    "# **Closing and holes removal**\n",
    "----\n",
    "<font size = 4>"
   ]
  },
  {
   "cell_type": "code",
   "execution_count": 8,
   "id": "xdUaxnrtKMCk",
   "metadata": {
    "cellView": "form",
    "colab": {
     "base_uri": "https://localhost:8080/"
    },
    "executionInfo": {
     "elapsed": 895329,
     "status": "ok",
     "timestamp": 1694197373547,
     "user": {
      "displayName": "Itsaso Vitoria",
      "userId": "09158122493387679708"
     },
     "user_tz": -120
    },
    "id": "xdUaxnrtKMCk",
    "outputId": "6f3e6e39-e801-4f71-e1f3-74e3d563f119",
    "tags": []
   },
   "outputs": [
    {
     "name": "stdout",
     "output_type": "stream",
     "text": [
      "Time for postprocessing all the masks: 3 minutes and 17 seconds\n"
     ]
    }
   ],
   "source": [
    "start_process = time.time()\n",
    "\n",
    "#@markdown ### Set the folder path where the images are located.\n",
    "imPath = 'E:/AAV para enfermedades renales/LSFM combined images/CystSegmentation/InitialSegMasks/MacroSPIM2/'+\\\n",
    "            'InitialSeg_KidneyR2Right_LectinRed_RLSamples2021' #@param {type:\"string\"}\n",
    "\n",
    "#@markdown ### Define the save pathl\n",
    "savePath = 'E:/AAV para enfermedades renales/LSFM combined images/CystSegmentation/FinalSegMasks/MacroSPIM2/'+\\\n",
    "            'FinalCystSeg_KidneyR2Right_LectinRed_RLSamples2021'#@param {type:\"string\"}\n",
    "\n",
    "# Ensure the save directory exists\n",
    "os.makedirs(savePath, exist_ok=True)\n",
    "\n",
    "# Get a list of all the files in the folder\n",
    "file_list = os.listdir(imPath)\n",
    "\n",
    "# Process each image in the folder\n",
    "for file_name in file_list:\n",
    "    # Construct the full file path\n",
    "    file_path = os.path.join(imPath, file_name)\n",
    "\n",
    "    # Load the binary mask image\n",
    "    binary_mask = cv2.imread(file_path, cv2.IMREAD_GRAYSCALE)\n",
    "\n",
    "    # Perform your desired image processing operations here\n",
    "    kernel = np.ones((6, 6), np.uint8)\n",
    "    closed_mask = cv2.morphologyEx(binary_mask, cv2.MORPH_CLOSE, kernel)\n",
    "\n",
    "    kernel = np.ones((7, 7), np.uint8)\n",
    "    binary_mask = cv2.erode(closed_mask, kernel, iterations=2)\n",
    "    binary_mask = cv2.dilate(binary_mask, kernel, iterations=2)\n",
    "\n",
    "    # Save the processed binary mask as a .tif file with the same name\n",
    "    maskPath = os.path.join(savePath, file_name)\n",
    "    slide = Image.fromarray(binary_mask)\n",
    "    slide.save(maskPath)\n",
    "\n",
    "end_process = time.time()\n",
    "print(\"Time for postprocessing all the masks:\", format_minutes_seconds(end_process - start_process))"
   ]
  }
 ],
 "metadata": {
  "accelerator": "GPU",
  "colab": {
   "gpuType": "V100",
   "provenance": []
  },
  "kernelspec": {
   "display_name": "Python 3 (ipykernel)",
   "language": "python",
   "name": "python3"
  },
  "language_info": {
   "codemirror_mode": {
    "name": "ipython",
    "version": 3
   },
   "file_extension": ".py",
   "mimetype": "text/x-python",
   "name": "python",
   "nbconvert_exporter": "python",
   "pygments_lexer": "ipython3",
   "version": "3.9.16"
  }
 },
 "nbformat": 4,
 "nbformat_minor": 5
}
